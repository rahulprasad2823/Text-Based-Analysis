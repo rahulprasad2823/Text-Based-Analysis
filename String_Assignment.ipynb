{
 "cells": [
  {
   "cell_type": "code",
   "execution_count": null,
   "metadata": {},
   "outputs": [],
   "source": [
    "#Assignment - 1 4/6/2024"
   ]
  },
  {
   "cell_type": "code",
   "execution_count": 1,
   "metadata": {},
   "outputs": [
    {
     "name": "stdout",
     "output_type": "stream",
     "text": [
      "e\n",
      "llo\n"
     ]
    }
   ],
   "source": [
    "# Python String Manipulation Example\n",
    "a = \"Hello, World!\"\n",
    "print(a[1])  # it prints e , try it yourself\n",
    "b = \"Hello, World!\"\n",
    "print(b[2:5])\n"
   ]
  },
  {
   "cell_type": "code",
   "execution_count": 10,
   "metadata": {},
   "outputs": [
    {
     "name": "stdout",
     "output_type": "stream",
     "text": [
      "13\n",
      "HELLO, WORLD!\n",
      "hello, world!\n",
      "Jello, World!\n"
     ]
    }
   ],
   "source": [
    "# Example for upper, lower and replace\n",
    "\n",
    "a = \"Hello, World!\"\n",
    "print(len(a))\n",
    "print(a.upper())\n",
    "print(a.lower())\n",
    "print(a.replace(\"H\", \"J\"))\n"
   ]
  },
  {
   "cell_type": "code",
   "execution_count": 19,
   "metadata": {},
   "outputs": [
    {
     "name": "stdout",
     "output_type": "stream",
     "text": [
      "Hello World\n",
      "rahul prasad!\n"
     ]
    }
   ],
   "source": [
    "a = \"Hello\"\n",
    "b = \"World\"\n",
    "c = a + \" \" + b\n",
    "print(c)\n",
    "# Example for lower()\n",
    "text = \"Rahul Prasad!\"\n",
    "lowercase_text = text.lower()\n",
    "print(lowercase_text)"
   ]
  },
  {
   "cell_type": "code",
   "execution_count": 28,
   "metadata": {},
   "outputs": [
    {
     "name": "stdout",
     "output_type": "stream",
     "text": [
      "Rahul Prasad!\n",
      "Rahul Prasad!\n"
     ]
    }
   ],
   "source": [
    "\n",
    "# Example for lstrip()\n",
    "text = \"Rahul Prasad!\"\n",
    "stripped_text = text.lstrip()\n",
    "print(stripped_text)\n",
    "\n",
    "\n",
    "# Example for lstrip(char)\n",
    "text = \"###Rahul Prasad!\"\n",
    "stripped_text = text.lstrip(\"#\")\n",
    "print(stripped_text)\n",
    "\n"
   ]
  },
  {
   "cell_type": "code",
   "execution_count": 37,
   "metadata": {},
   "outputs": [
    {
     "name": "stdout",
     "output_type": "stream",
     "text": [
      "Rahul Prasad\n"
     ]
    }
   ],
   "source": [
    "# Example for rstrip()\n",
    "text = \"Rahul Prasad\"\n",
    "stripped_text = text.rstrip()\n",
    "print(stripped_text)"
   ]
  },
  {
   "cell_type": "code",
   "execution_count": 46,
   "metadata": {},
   "outputs": [
    {
     "name": "stdout",
     "output_type": "stream",
     "text": [
      "Rahul Prasad\n"
     ]
    }
   ],
   "source": [
    "# Example for strip()\n",
    "text = \"Rahul Prasad\"\n",
    "stripped_text = text.strip()\n",
    "print(stripped_text)\n"
   ]
  },
  {
   "cell_type": "code",
   "execution_count": 55,
   "metadata": {},
   "outputs": [
    {
     "name": "stdout",
     "output_type": "stream",
     "text": [
      "Rahul Prasad!\n"
     ]
    }
   ],
   "source": [
    "# Example for strip(char)\n",
    "text = \"###Rahul Prasad!###\"\n",
    "stripped_text = text.strip(\"#\")\n",
    "print(stripped_text)"
   ]
  },
  {
   "cell_type": "code",
   "execution_count": 64,
   "metadata": {},
   "outputs": [
    {
     "name": "stdout",
     "output_type": "stream",
     "text": [
      "False\n"
     ]
    }
   ],
   "source": [
    "# Example for endswith() with different substring\n",
    "result = text.endswith(\"Rahul\")\n",
    "print(result)\n"
   ]
  },
  {
   "cell_type": "code",
   "execution_count": 73,
   "metadata": {},
   "outputs": [
    {
     "name": "stdout",
     "output_type": "stream",
     "text": [
      "6\n",
      "0\n"
     ]
    }
   ],
   "source": [
    "# Example for find()\n",
    "text = \"Rahul Prasad!\"\n",
    "index = text.find(\"Prasad\")\n",
    "print(index)\n",
    "\n",
    "# Example for find() with non-existing substring\n",
    "index = text.find(\"\")\n",
    "print(index)\n"
   ]
  },
  {
   "cell_type": "code",
   "execution_count": 74,
   "metadata": {},
   "outputs": [
    {
     "name": "stdout",
     "output_type": "stream",
     "text": [
      "asad\n"
     ]
    }
   ],
   "source": [
    "#Substring Extraction:\n",
    "# Original string\n",
    "string = \"Rahul Prasad\"\n",
    "# Extracting substring\n",
    "substring = string[8:12]\n",
    "print(substring)"
   ]
  },
  {
   "cell_type": "code",
   "execution_count": 91,
   "metadata": {},
   "outputs": [
    {
     "name": "stdout",
     "output_type": "stream",
     "text": [
      "Rahul, Prasad!\n"
     ]
    }
   ],
   "source": [
    "# String Concatenation\n",
    "# Original strings\n",
    "str1 = \"Rahul\"\n",
    "str2 = \"Prasad\"\n",
    "# Concatenating strings\n",
    "concatenated_string = str1 + \", \" + str2 + \"!\"\n",
    "print(concatenated_string)"
   ]
  },
  {
   "cell_type": "code",
   "execution_count": 98,
   "metadata": {},
   "outputs": [
    {
     "name": "stdout",
     "output_type": "stream",
     "text": [
      "The word 'sample' occurs 2 times in the string.\n"
     ]
    }
   ],
   "source": [
    "# Counting occurrences of a word in a string\n",
    "string = \"This is a sample string. Sample strings are used for demonstration.\"\n",
    "word_to_count = \"sample\"\n",
    "count = string.lower().count(word_to_count.lower())\n",
    "print(f\"The word '{word_to_count}' occurs {count} times in the string.\")\n"
   ]
  },
  {
   "cell_type": "code",
   "execution_count": 109,
   "metadata": {},
   "outputs": [
    {
     "name": "stdout",
     "output_type": "stream",
     "text": [
      "The substring 'se' appears 3 times in the string.\n"
     ]
    }
   ],
   "source": [
    "# Original string\n",
    "string = \"She sells seashells by the seashore\"\n",
    "# Substring to count\n",
    "substring = \"se\"\n",
    "# Count occurrences\n",
    "count = string.count(substring)\n",
    "print(f\"The substring '{substring}' appears {count} times in the string.\")\n"
   ]
  },
  {
   "cell_type": "code",
   "execution_count": 110,
   "metadata": {},
   "outputs": [
    {
     "name": "stdout",
     "output_type": "stream",
     "text": [
      "['Deep', 'Deep', 'Deep']\n"
     ]
    }
   ],
   "source": [
    "# Regular Expression (Regex) Match\n",
    "import re\n",
    "# Original string\n",
    "string = \"Deep Ocean Deepth Deep\"\n",
    "# Pattern to match\n",
    "pattern = r\"Depth|Deep\"\n",
    "# Finding matches\n",
    "matches = re.findall(pattern, string)\n",
    "print(matches)"
   ]
  },
  {
   "cell_type": "code",
   "execution_count": 111,
   "metadata": {},
   "outputs": [
    {
     "name": "stdout",
     "output_type": "stream",
     "text": [
      "['+1 (987) 654-3210']\n"
     ]
    }
   ],
   "source": [
    "import re\n",
    "\n",
    "# Original text containing phone numbers\n",
    "text = \"Call us at +123-456-7890 or +1 (987) 654-3210\"\n",
    "\n",
    "# Pattern to match phone numbers\n",
    "pattern = r\"\\+\\d{1,3}[-\\s]?\\(\\d{3}\\)[-|\\s]?\\d{3}[-|\\s]?\\d{4}\"\n",
    "\n",
    "# Finding phone numbers\n",
    "phone_numbers = re.findall(pattern, text)\n",
    "print(phone_numbers)\n"
   ]
  },
  {
   "cell_type": "code",
   "execution_count": 112,
   "metadata": {},
   "outputs": [
    {
     "name": "stdout",
     "output_type": "stream",
     "text": [
      "['+123', '+1']\n"
     ]
    }
   ],
   "source": [
    "import re\n",
    "\n",
    "# Original text containing phone numbers\n",
    "text = \"Contact us at +123 or +1 for assistance.\"\n",
    "\n",
    "# Pattern to match phone numbers with country code only\n",
    "pattern = r\"\\+\\d{1,3}\"\n",
    "\n",
    "# Finding phone numbers\n",
    "phone_numbers = re.findall(pattern, text)\n",
    "print(phone_numbers)\n"
   ]
  },
  {
   "cell_type": "code",
   "execution_count": 113,
   "metadata": {},
   "outputs": [
    {
     "name": "stdout",
     "output_type": "stream",
     "text": [
      "I have this dish to help me helped\n"
     ]
    }
   ],
   "source": [
    "# String Replacement using Regex\n",
    "import re\n",
    "# Original string\n",
    "string = \"I have this dish to help me wish\"\n",
    "# Pattern to find\n",
    "pattern = r\"\\bwish\\b\"\n",
    "# Replacing substring\n",
    "replaced_string = re.sub(pattern, \"helped\", string)\n",
    "print(replaced_string) "
   ]
  },
  {
   "cell_type": "code",
   "execution_count": 114,
   "metadata": {},
   "outputs": [
    {
     "name": "stdout",
     "output_type": "stream",
     "text": [
      "Your order number is NUMBER. Please keep it safe.\n"
     ]
    }
   ],
   "source": [
    "import re\n",
    "\n",
    "# Original string\n",
    "string = \"Your order number is 12345. Please keep it safe.\"\n",
    "\n",
    "# Pattern to find digits\n",
    "pattern = r\"\\d+\"\n",
    "\n",
    "# Replacing digits with a fixed string\n",
    "replaced_string = re.sub(pattern, \"NUMBER\", string)\n",
    "print(replaced_string)\n"
   ]
  },
  {
   "cell_type": "code",
   "execution_count": 115,
   "metadata": {},
   "outputs": [
    {
     "name": "stdout",
     "output_type": "stream",
     "text": [
      "['fox', 'jazz', 'wine', 'select']\n"
     ]
    }
   ],
   "source": [
    "# String Splitting using Regex\n",
    "import re\n",
    "# Original string\n",
    "string = \"fox,jazz,wine,select\"\n",
    "# Pattern for splitting\n",
    "substrings = re.split(\",\", string)\n",
    "print(substrings)  "
   ]
  }
 ],
 "metadata": {
  "kernelspec": {
   "display_name": "Python 3",
   "language": "python",
   "name": "python3"
  },
  "language_info": {
   "codemirror_mode": {
    "name": "ipython",
    "version": 3
   },
   "file_extension": ".py",
   "mimetype": "text/x-python",
   "name": "python",
   "nbconvert_exporter": "python",
   "pygments_lexer": "ipython3",
   "version": "3.12.2"
  }
 },
 "nbformat": 4,
 "nbformat_minor": 2
}
