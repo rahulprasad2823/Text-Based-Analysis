{
 "cells": [
  {
   "cell_type": "code",
   "execution_count": 3,
   "metadata": {},
   "outputs": [
    {
     "name": "stdout",
     "output_type": "stream",
     "text": [
      "Hello\n"
     ]
    }
   ],
   "source": [
    "# String Operations \n",
    "a= \"Hello\"\n",
    "print(a)\n",
    "\n"
   ]
  },
  {
   "cell_type": "code",
   "execution_count": 4,
   "metadata": {},
   "outputs": [
    {
     "name": "stdout",
     "output_type": "stream",
     "text": [
      "e\n",
      "llo\n"
     ]
    }
   ],
   "source": [
    "# Python String Manipulation Example\n",
    "a = \"Hello, World!\"\n",
    "print(a[1])  # it prints e , try it yourself\n",
    "b = \"Hello, World!\"\n",
    "print(b[2:5])\n"
   ]
  },
  {
   "cell_type": "code",
   "execution_count": 5,
   "metadata": {},
   "outputs": [
    {
     "name": "stdout",
     "output_type": "stream",
     "text": [
      "13\n",
      "HELLO, WORLD!\n",
      "hello, world!\n",
      "Jello, World!\n"
     ]
    }
   ],
   "source": [
    "\n",
    "# Example for upper, lower and replace\n",
    "\n",
    "a = \"Hello, World!\"\n",
    "print(len(a))\n",
    "print(a.upper())\n",
    "print(a.lower())\n",
    "print(a.replace(\"H\", \"J\"))\n"
   ]
  },
  {
   "cell_type": "code",
   "execution_count": 6,
   "metadata": {},
   "outputs": [
    {
     "name": "stdout",
     "output_type": "stream",
     "text": [
      "Hello World\n",
      "rahul prasad!\n"
     ]
    }
   ],
   "source": [
    "\n",
    "a = \"Hello\"\n",
    "b = \"World\"\n",
    "c = a + \" \" + b\n",
    "print(c)\n",
    "# Example for lower()\n",
    "text = \"Rahul Prasad!\"\n",
    "lowercase_text = text.lower()\n",
    "print(lowercase_text)\n"
   ]
  },
  {
   "cell_type": "code",
   "execution_count": 7,
   "metadata": {},
   "outputs": [
    {
     "name": "stdout",
     "output_type": "stream",
     "text": [
      "Rahul Prasad!\n",
      "Rahul Prasad!\n"
     ]
    }
   ],
   "source": [
    "\n",
    "\n",
    "# Example for lstrip()\n",
    "text = \"Rahul Prasad!\"\n",
    "stripped_text = text.lstrip()\n",
    "print(stripped_text)\n",
    "\n",
    "\n",
    "# Example for lstrip(char)\n",
    "text = \"###Rahul Prasad!\"\n",
    "stripped_text = text.lstrip(\"#\")\n",
    "print(stripped_text)\n",
    "\n"
   ]
  },
  {
   "cell_type": "code",
   "execution_count": 8,
   "metadata": {},
   "outputs": [
    {
     "name": "stdout",
     "output_type": "stream",
     "text": [
      "Rahul Prasad\n"
     ]
    }
   ],
   "source": [
    "\n",
    "# Example for rstrip()\n",
    "text = \"Rahul Prasad\"\n",
    "stripped_text = text.rstrip()\n",
    "print(stripped_text)\n"
   ]
  },
  {
   "cell_type": "code",
   "execution_count": 9,
   "metadata": {},
   "outputs": [
    {
     "name": "stdout",
     "output_type": "stream",
     "text": [
      "Rahul Prasad\n"
     ]
    }
   ],
   "source": [
    "\n",
    "\n",
    "# Example for rstrip(char)\n",
    "text = \"Rahul Prasad###\"\n",
    "stripped_text = text.rstrip(\"#\")\n",
    "print(stripped_text)\n"
   ]
  },
  {
   "cell_type": "code",
   "execution_count": 10,
   "metadata": {},
   "outputs": [
    {
     "name": "stdout",
     "output_type": "stream",
     "text": [
      "Rahul Prasad\n"
     ]
    }
   ],
   "source": [
    "\n",
    "\n",
    "# Example for strip()\n",
    "text = \"Rahul Prasad\"\n",
    "stripped_text = text.strip()\n",
    "print(stripped_text)\n",
    "\n"
   ]
  },
  {
   "cell_type": "code",
   "execution_count": 11,
   "metadata": {},
   "outputs": [
    {
     "name": "stdout",
     "output_type": "stream",
     "text": [
      "Rahul Prasad!\n"
     ]
    }
   ],
   "source": [
    "\n",
    "# Example for strip(char)\n",
    "text = \"###Rahul Prasad!###\"\n",
    "stripped_text = text.strip(\"#\")\n",
    "print(stripped_text)\n",
    "\n"
   ]
  },
  {
   "cell_type": "code",
   "execution_count": 12,
   "metadata": {},
   "outputs": [
    {
     "name": "stdout",
     "output_type": "stream",
     "text": [
      "RAHUL PRASAD\n"
     ]
    }
   ],
   "source": [
    "\n",
    "# Example for upper()\n",
    "text = \"Rahul Prasad\"\n",
    "uppercase_text = text.upper()\n",
    "print(uppercase_text)\n"
   ]
  },
  {
   "cell_type": "code",
   "execution_count": 13,
   "metadata": {},
   "outputs": [
    {
     "name": "stdout",
     "output_type": "stream",
     "text": [
      "True\n"
     ]
    }
   ],
   "source": [
    "\n",
    "# Example for endswith()\n",
    "text = \"Rahul Prasad\"\n",
    "result = text.endswith(\"Prasad\")\n",
    "print(result)\n"
   ]
  },
  {
   "cell_type": "code",
   "execution_count": 14,
   "metadata": {},
   "outputs": [
    {
     "name": "stdout",
     "output_type": "stream",
     "text": [
      "False\n"
     ]
    }
   ],
   "source": [
    "\n",
    "# Example for endswith() with different substring\n",
    "result = text.endswith(\"Rahul\")\n",
    "print(result)\n",
    "\n"
   ]
  },
  {
   "cell_type": "code",
   "execution_count": 15,
   "metadata": {},
   "outputs": [
    {
     "name": "stdout",
     "output_type": "stream",
     "text": [
      "True\n",
      "False\n"
     ]
    }
   ],
   "source": [
    "\n",
    "# Example for startswith()\n",
    "result = text.startswith(\"Rahul\")\n",
    "print(result)\n",
    "\n",
    "# Example for startswith() with different substring\n",
    "result = text.startswith(\"Prasad\")\n",
    "print(result)\n"
   ]
  },
  {
   "cell_type": "code",
   "execution_count": 16,
   "metadata": {},
   "outputs": [
    {
     "name": "stdout",
     "output_type": "stream",
     "text": [
      "6\n",
      "0\n"
     ]
    }
   ],
   "source": [
    "\n",
    "# Example for find()\n",
    "text = \"Rahul Prasad!\"\n",
    "index = text.find(\"Prasad\")\n",
    "print(index)\n",
    "\n",
    "# Example for find() with non-existing substring\n",
    "index = text.find(\"\")\n",
    "print(index)\n",
    "\n"
   ]
  },
  {
   "cell_type": "code",
   "execution_count": 17,
   "metadata": {},
   "outputs": [
    {
     "name": "stdout",
     "output_type": "stream",
     "text": [
      "Prasad Prasad!\n"
     ]
    }
   ],
   "source": [
    "\n",
    "# Example for replace()\n",
    "new_text = text.replace(\"Rahul\", \"Prasad\")\n",
    "print(new_text)\n"
   ]
  },
  {
   "cell_type": "code",
   "execution_count": 18,
   "metadata": {},
   "outputs": [
    {
     "name": "stdout",
     "output_type": "stream",
     "text": [
      "Rahul Prasad!\n"
     ]
    }
   ],
   "source": [
    "\n",
    "# Example for replace() with non-existing substring\n",
    "new_text = text.replace(\"Python\", \"World\")\n",
    "print(new_text)\n"
   ]
  },
  {
   "cell_type": "code",
   "execution_count": 19,
   "metadata": {},
   "outputs": [
    {
     "name": "stdout",
     "output_type": "stream",
     "text": [
      "RahulRahulRahul\n"
     ]
    }
   ],
   "source": [
    "\n",
    "# Using the repetition operator to create multiple copies of a string\n",
    "original_string = \"Rahul\"\n",
    "repeated_string = original_string * 3  # Repeat \"Sathvik\" three times\n",
    "print(repeated_string)\n"
   ]
  },
  {
   "cell_type": "code",
   "execution_count": 20,
   "metadata": {},
   "outputs": [
    {
     "name": "stdout",
     "output_type": "stream",
     "text": [
      "['Humty', 'Dumpty', 'sat', 'on', 'a', 'wall']\n"
     ]
    }
   ],
   "source": [
    "\n",
    "# Using split() with default separator (space)\n",
    "sentence = \"Humty Dumpty sat on a wall\"\n",
    "words = sentence.split()\n",
    "print(words)\n"
   ]
  },
  {
   "cell_type": "code",
   "execution_count": 21,
   "metadata": {},
   "outputs": [
    {
     "name": "stdout",
     "output_type": "stream",
     "text": [
      "['Apple', ' Mango', ' Grape', ' Orange']\n",
      "['Where', 'is', 'the', 'peace,', 'I', 'say', 'Travel']\n"
     ]
    }
   ],
   "source": [
    "\n",
    "# Using split() with a different separator\n",
    "csv_data = \"Apple, Mango, Grape, Orange\"\n",
    "names = csv_data.split(',')\n",
    "print(names)\n",
    "\n",
    "# String containing substrings separated by spaces\n",
    "sentence = \"Where is the peace, I say Travel\"\n",
    "\n",
    "# Splitting the string into tokens using space as the delimiter\n",
    "tokens = sentence.split()\n",
    "\n",
    "# Printing the tokens\n",
    "print(tokens)\n"
   ]
  },
  {
   "cell_type": "code",
   "execution_count": 22,
   "metadata": {},
   "outputs": [
    {
     "data": {
      "text/plain": [
       "['abc', 'abc', 'abc', 'abc', 'abc']"
      ]
     },
     "execution_count": 22,
     "metadata": {},
     "output_type": "execute_result"
    }
   ],
   "source": [
    "\n",
    "# Basic regexes\n",
    "import re\n",
    "def tokenize(text):\n",
    "    return re.findall(r'abc', text)\n",
    "x = tokenize(\"abcd 45abc abc% abc.com acbrx .=.abc.=. ab c cba ABC \")\n",
    "x\n"
   ]
  },
  {
   "cell_type": "code",
   "execution_count": 23,
   "metadata": {},
   "outputs": [
    {
     "name": "stdout",
     "output_type": "stream",
     "text": [
      "['gooey', 'moody', 'roody', 'goofy', 'loopy']\n"
     ]
    }
   ],
   "source": [
    "\n",
    "# Groups and ranges (. (a dot) matches any character except \\n• \".oo.y\" matches \"Doocy\", \"goofy\", \"LooPy\", ...• use \\. to literally match a dot . character)\n",
    "import re\n",
    "def tokenize(text):\n",
    "    return re.findall(r'.oo.y', text)\n",
    "x = tokenize(\" abcd gooey moody broody goofy gummy mooooudy loopy ooy \")\n",
    "print(x)\n"
   ]
  },
  {
   "cell_type": "code",
   "execution_count": 24,
   "metadata": {},
   "outputs": [
    {
     "name": "stdout",
     "output_type": "stream",
     "text": [
      "['abc.abc.com']\n"
     ]
    }
   ],
   "source": [
    "\n",
    "# Capturing the .\n",
    "import re\n",
    "def tokenize(text):\n",
    "    return re.findall(r'abc\\.abc\\.com', text)\n",
    "\n",
    "x = tokenize(\"abc.abc.com abc.abc,com abc,abc.com ABC.abc.com\")\n",
    "print(x)\n"
   ]
  },
  {
   "cell_type": "code",
   "execution_count": 25,
   "metadata": {},
   "outputs": [
    {
     "name": "stdout",
     "output_type": "stream",
     "text": [
      "['The']\n",
      "[]\n"
     ]
    }
   ],
   "source": [
    "\n",
    "# Groups and ranges\n",
    "import re\n",
    "def tokenize(text):\n",
    "    return re.findall(r'^The', text)\n",
    "x = tokenize(\"Them \")\n",
    "print(x)\n",
    "y = tokenize(\"them\")\n",
    "print(y)\n"
   ]
  },
  {
   "cell_type": "code",
   "execution_count": 26,
   "metadata": {},
   "outputs": [
    {
     "name": "stdout",
     "output_type": "stream",
     "text": [
      "['abc', 'xyz', 'xyz']\n"
     ]
    }
   ],
   "source": [
    "\n",
    "#Groups and ranges |means Or\n",
    "import re\n",
    "def tokenize(text):\n",
    "    return re.findall(r'abc|xyz', text)\n",
    "x = tokenize(\"abcd xsdxyz xyz derf\")\n",
    "print(x)\n"
   ]
  },
  {
   "cell_type": "code",
   "execution_count": 27,
   "metadata": {},
   "outputs": [
    {
     "name": "stdout",
     "output_type": "stream",
     "text": [
      "['c', '', 'cccc', '', 'cccccccc', '']\n"
     ]
    }
   ],
   "source": [
    "\n",
    "# Capture group ( )\n",
    "import re\n",
    "def tokenize(text):\n",
    "    return re.findall(r'ab(c*)', text)\n",
    "x = tokenize(\"abcd ab abcccc acb abbbbc abcccccccc fabulous\")\n",
    "print(x)\n"
   ]
  }
 ],
 "metadata": {
  "kernelspec": {
   "display_name": "Python 3",
   "language": "python",
   "name": "python3"
  },
  "language_info": {
   "codemirror_mode": {
    "name": "ipython",
    "version": 3
   },
   "file_extension": ".py",
   "mimetype": "text/x-python",
   "name": "python",
   "nbconvert_exporter": "python",
   "pygments_lexer": "ipython3",
   "version": "3.12.2"
  }
 },
 "nbformat": 4,
 "nbformat_minor": 2
}
