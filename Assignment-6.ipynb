{
 "cells": [
  {
   "cell_type": "markdown",
   "id": "d493151e-3124-4f5b-b3e2-97d19c15f912",
   "metadata": {},
   "source": [
    "## Assignment - 6 5/4/24"
   ]
  },
  {
   "cell_type": "markdown",
   "id": "a91d228c-454b-4eda-a1fc-efe1ad291fe0",
   "metadata": {},
   "source": [
    "## Text Summarization"
   ]
  },
  {
   "cell_type": "code",
   "execution_count": 35,
   "id": "f34aafd0-3fca-4a41-9ca2-148fa04df569",
   "metadata": {},
   "outputs": [],
   "source": [
    "from nltk.corpus import stopwords #you can remove stop words for speed\n",
    "from nltk.cluster.util import cosine_distance\n",
    "import numpy as np\n",
    "import networkx as nx"
   ]
  },
  {
   "cell_type": "markdown",
   "id": "3725d646-7aec-452e-8ab8-0a14d7a37e49",
   "metadata": {},
   "source": [
    "## Open file and split into sentences"
   ]
  },
  {
   "cell_type": "code",
   "execution_count": 36,
   "id": "0de9a85c-44af-41dd-a581-41a8d65207f1",
   "metadata": {},
   "outputs": [
    {
     "name": "stdout",
     "output_type": "stream",
     "text": [
      "Es war einmal: So fangen Märchen an\n",
      "Ein Märchen ist eine sehr alte Geschichte\n",
      "Dieses Märchen heißt: Schnee·wittchen\n",
      "Das Märchen geht so: Auf dem Bild ist Schnee·wittchen\n",
      "Schnee·wittchen ist sehr schön: Schnee·wittchen hat schwarze Haare\n",
      "Und rote Lippen\n",
      "Und ihre Haut ist so weiß wie Schnee\n",
      "Deshalb bekommt Schnee·wittchen diesen Namen\n",
      "Ein König und eine Königin leben in einem Schloss\n",
      "Die Königin bekommt eine Tochter\n",
      "Die Tochter ist sehr schön: Die Tochter hat schwarze Haare\n",
      "Und rote Lippen\n",
      "Und ihre Haut ist so weiß wie Schnee\n",
      "Deshalb bekommt die Tochter den Namen: Schnee·wittchen\n",
      " Schnee·wittchen ist nur wenige Tage alt\n",
      "Da stirbt die Königin\n",
      "Die Geburt war nämlich sehr schwer\n",
      "Ein Jahr vergeht\n",
      "Da heiratet der König eine neue Frau\n",
      "Die neue Frau ist jetzt die Königin\n",
      " Die neue Königin ist schön\n",
      " Und auf ihre Schönheit ist die neue Königin sehr stolz\n",
      "\n",
      "\n"
     ]
    }
   ],
   "source": [
    "file = open(\"GermanText.txt\", \"r\")\n",
    "#This file contains one paragraph of multiple sentences\n",
    "filedata = file.readlines()\n",
    "article = filedata[0].split(\". \") #Just do the first paragraph\n",
    "sentences = []\n",
    "for sentence in article:\n",
    "    print(sentence)\n",
    "    sentences.append(sentence.replace(\"[^a-zA-Z]\", \" \").split(\" \"))"
   ]
  },
  {
   "cell_type": "markdown",
   "id": "298dce52-5ad8-4219-9095-cb6066d943fe",
   "metadata": {},
   "source": [
    "## Our data: a list of sentences"
   ]
  },
  {
   "cell_type": "code",
   "execution_count": 37,
   "id": "3653686a-764c-4d11-b827-ddad021be69b",
   "metadata": {},
   "outputs": [
    {
     "name": "stdout",
     "output_type": "stream",
     "text": [
      "Sentences are  [['\\ufeffEs', 'war', 'einmal:', 'So', 'fangen', 'Märchen', 'an'], ['Ein', 'Märchen', 'ist', 'eine', 'sehr', 'alte', 'Geschichte'], ['Dieses', 'Märchen', 'heißt:', 'Schnee·wittchen'], ['Das', 'Märchen', 'geht', 'so:', 'Auf', 'dem', 'Bild', 'ist', 'Schnee·wittchen'], ['Schnee·wittchen', 'ist', 'sehr', 'schön:', 'Schnee·wittchen', 'hat', 'schwarze', 'Haare'], ['Und', 'rote', 'Lippen'], ['Und', 'ihre', 'Haut', 'ist', 'so', 'weiß', 'wie', 'Schnee'], ['Deshalb', 'bekommt', 'Schnee·wittchen', 'diesen', 'Namen'], ['Ein', 'König', 'und', 'eine', 'Königin', 'leben', 'in', 'einem', 'Schloss'], ['Die', 'Königin', 'bekommt', 'eine', 'Tochter'], ['Die', 'Tochter', 'ist', 'sehr', 'schön:', 'Die', 'Tochter', 'hat', 'schwarze', 'Haare'], ['Und', 'rote', 'Lippen'], ['Und', 'ihre', 'Haut', 'ist', 'so', 'weiß', 'wie', 'Schnee'], ['Deshalb', 'bekommt', 'die', 'Tochter', 'den', 'Namen:', 'Schnee·wittchen'], ['', 'Schnee·wittchen', 'ist', 'nur', 'wenige', 'Tage', 'alt'], ['Da', 'stirbt', 'die', 'Königin'], ['Die', 'Geburt', 'war', 'nämlich', 'sehr', 'schwer'], ['Ein', 'Jahr', 'vergeht'], ['Da', 'heiratet', 'der', 'König', 'eine', 'neue', 'Frau'], ['Die', 'neue', 'Frau', 'ist', 'jetzt', 'die', 'Königin'], ['', 'Die', 'neue', 'Königin', 'ist', 'schön'], ['', 'Und', 'auf', 'ihre', 'Schönheit', 'ist', 'die', 'neue', 'Königin', 'sehr', 'stolz'], ['\\n']]\n"
     ]
    }
   ],
   "source": [
    "print(\"Sentences are \", sentences)"
   ]
  },
  {
   "cell_type": "markdown",
   "id": "a708e858-703e-40ef-8441-0e179e5ee37b",
   "metadata": {},
   "source": [
    "## Function to calculate similarity"
   ]
  },
  {
   "cell_type": "code",
   "execution_count": 38,
   "id": "652f9052-29f2-409d-a919-0d82cff4d165",
   "metadata": {},
   "outputs": [],
   "source": [
    "def sentence_similarity(sent1, sent2 ):\n",
    "    sent1 = [w.lower() for w in sent1]\n",
    "    sent2 = [w.lower() for w in sent2]\n",
    "    all_words = list(set(sent1 + sent2))\n",
    "    vector1 = [0] * len(all_words)\n",
    "    vector2 = [0] * len(all_words)\n",
    "    for w in sent1:\n",
    "        vector1[all_words.index(w)] += 1\n",
    "        for w in sent2:\n",
    "            vector2[all_words.index(w)] += 1\n",
    "            return 1 - cosine_distance(vector1, vector2)"
   ]
  },
  {
   "cell_type": "markdown",
   "id": "946cf465-2b5a-4afb-93b1-9c8acc4b4216",
   "metadata": {},
   "source": [
    "## Create the similarity matrix"
   ]
  },
  {
   "cell_type": "code",
   "execution_count": 39,
   "id": "ba69e6c9-c5b8-4639-b22e-648920bbfd97",
   "metadata": {},
   "outputs": [
    {
     "name": "stdout",
     "output_type": "stream",
     "text": [
      "Similarity matrix:\n",
      " [[0. 0. 0. 0. 0. 0. 0. 0. 0. 0. 0. 0. 0. 0. 0. 0. 0. 0. 0. 0. 0. 0. 0.]\n",
      " [0. 0. 0. 0. 0. 0. 0. 0. 1. 0. 0. 0. 0. 0. 0. 0. 0. 1. 0. 0. 0. 0. 0.]\n",
      " [0. 0. 0. 0. 0. 0. 0. 0. 0. 0. 0. 0. 0. 0. 0. 0. 0. 0. 0. 0. 0. 0. 0.]\n",
      " [0. 0. 0. 0. 0. 0. 0. 0. 0. 0. 0. 0. 0. 0. 0. 0. 0. 0. 0. 0. 0. 0. 0.]\n",
      " [0. 0. 0. 0. 0. 0. 0. 0. 0. 0. 0. 0. 0. 0. 0. 0. 0. 0. 0. 0. 0. 0. 0.]\n",
      " [0. 0. 0. 0. 0. 0. 1. 0. 0. 0. 0. 1. 1. 0. 0. 0. 0. 0. 0. 0. 0. 0. 0.]\n",
      " [0. 0. 0. 0. 0. 1. 0. 0. 0. 0. 0. 1. 1. 0. 0. 0. 0. 0. 0. 0. 0. 0. 0.]\n",
      " [0. 0. 0. 0. 0. 0. 0. 0. 0. 0. 0. 0. 0. 1. 0. 0. 0. 0. 0. 0. 0. 0. 0.]\n",
      " [0. 1. 0. 0. 0. 0. 0. 0. 0. 0. 0. 0. 0. 0. 0. 0. 0. 1. 0. 0. 0. 0. 0.]\n",
      " [0. 0. 0. 0. 0. 0. 0. 0. 0. 0. 1. 0. 0. 0. 0. 0. 1. 0. 0. 1. 0. 0. 0.]\n",
      " [0. 0. 0. 0. 0. 0. 0. 0. 0. 1. 0. 0. 0. 0. 0. 0. 1. 0. 0. 1. 0. 0. 0.]\n",
      " [0. 0. 0. 0. 0. 1. 1. 0. 0. 0. 0. 0. 1. 0. 0. 0. 0. 0. 0. 0. 0. 0. 0.]\n",
      " [0. 0. 0. 0. 0. 1. 1. 0. 0. 0. 0. 1. 0. 0. 0. 0. 0. 0. 0. 0. 0. 0. 0.]\n",
      " [0. 0. 0. 0. 0. 0. 0. 1. 0. 0. 0. 0. 0. 0. 0. 0. 0. 0. 0. 0. 0. 0. 0.]\n",
      " [0. 0. 0. 0. 0. 0. 0. 0. 0. 0. 0. 0. 0. 0. 0. 0. 0. 0. 0. 0. 1. 1. 0.]\n",
      " [0. 0. 0. 0. 0. 0. 0. 0. 0. 0. 0. 0. 0. 0. 0. 0. 0. 0. 1. 0. 0. 0. 0.]\n",
      " [0. 0. 0. 0. 0. 0. 0. 0. 0. 1. 1. 0. 0. 0. 0. 0. 0. 0. 0. 1. 0. 0. 0.]\n",
      " [0. 1. 0. 0. 0. 0. 0. 0. 1. 0. 0. 0. 0. 0. 0. 0. 0. 0. 0. 0. 0. 0. 0.]\n",
      " [0. 0. 0. 0. 0. 0. 0. 0. 0. 0. 0. 0. 0. 0. 0. 1. 0. 0. 0. 0. 0. 0. 0.]\n",
      " [0. 0. 0. 0. 0. 0. 0. 0. 0. 1. 1. 0. 0. 0. 0. 0. 1. 0. 0. 0. 0. 0. 0.]\n",
      " [0. 0. 0. 0. 0. 0. 0. 0. 0. 0. 0. 0. 0. 0. 1. 0. 0. 0. 0. 0. 0. 1. 0.]\n",
      " [0. 0. 0. 0. 0. 0. 0. 0. 0. 0. 0. 0. 0. 0. 1. 0. 0. 0. 0. 0. 1. 0. 0.]\n",
      " [0. 0. 0. 0. 0. 0. 0. 0. 0. 0. 0. 0. 0. 0. 0. 0. 0. 0. 0. 0. 0. 0. 0.]]\n"
     ]
    }
   ],
   "source": [
    "similarity_matrix = np.zeros((len(sentences), len(sentences)))\n",
    "\n",
    "for idx1 in range(len(sentences)):\n",
    "    for idx2 in range(len(sentences)):\n",
    "        if idx1 == idx2: #ignore if both are same sentences\n",
    "            continue\n",
    "        similarity_matrix[idx1][idx2] = sentence_similarity(sentences[idx1], sentences[idx2])\n",
    "\n",
    "print(\"Similarity matrix:\\n\", similarity_matrix)"
   ]
  },
  {
   "cell_type": "markdown",
   "id": "e3949ff8-6ce7-4172-8225-ae237448b37d",
   "metadata": {},
   "source": [
    "## Get the pagerank scores"
   ]
  },
  {
   "cell_type": "code",
   "execution_count": 40,
   "id": "9de3edde-97ea-4cab-b319-b8203ee52d60",
   "metadata": {},
   "outputs": [
    {
     "name": "stdout",
     "output_type": "stream",
     "text": [
      "scores {0: 0.008000260969636694, 1: 0.05333326084176758, 2: 0.008000260969636694, 3: 0.008000260969636694, 4: 0.008000260969636694, 5: 0.053333260841767566, 6: 0.053333260841767566, 7: 0.05333326084176758, 8: 0.05333326084176758, 9: 0.053333260841767566, 10: 0.053333260841767566, 11: 0.053333260841767566, 12: 0.053333260841767566, 13: 0.05333326084176758, 14: 0.05333326084176758, 15: 0.05333326084176758, 16: 0.053333260841767566, 17: 0.05333326084176758, 18: 0.05333326084176758, 19: 0.053333260841767566, 20: 0.05333326084176758, 21: 0.05333326084176758, 22: 0.008000260969636694}\n"
     ]
    }
   ],
   "source": [
    "# Step 3 - Rank sentences in similarity martix\n",
    "sentence_similarity_graph = nx.from_numpy_array(similarity_matrix)\n",
    "scores = nx.pagerank(sentence_similarity_graph)\n",
    "print(\"scores\", scores)"
   ]
  },
  {
   "cell_type": "markdown",
   "id": "97976d33-8186-4f34-b256-cfe21e39f3e2",
   "metadata": {},
   "source": [
    "## Sort sentences by pagerank"
   ]
  },
  {
   "cell_type": "code",
   "execution_count": 41,
   "id": "d552717c-f0bd-4959-9425-c194fe124e13",
   "metadata": {},
   "outputs": [
    {
     "name": "stdout",
     "output_type": "stream",
     "text": [
      "Indexes of top ranked_sentence order are \n",
      "\n",
      " [(0.05333326084176758, ['Ein', 'Märchen', 'ist', 'eine', 'sehr', 'alte', 'Geschichte']), (0.05333326084176758, ['Ein', 'König', 'und', 'eine', 'Königin', 'leben', 'in', 'einem', 'Schloss']), (0.05333326084176758, ['Ein', 'Jahr', 'vergeht']), (0.05333326084176758, ['Deshalb', 'bekommt', 'die', 'Tochter', 'den', 'Namen:', 'Schnee·wittchen']), (0.05333326084176758, ['Deshalb', 'bekommt', 'Schnee·wittchen', 'diesen', 'Namen']), (0.05333326084176758, ['Da', 'stirbt', 'die', 'Königin']), (0.05333326084176758, ['Da', 'heiratet', 'der', 'König', 'eine', 'neue', 'Frau']), (0.05333326084176758, ['', 'Und', 'auf', 'ihre', 'Schönheit', 'ist', 'die', 'neue', 'Königin', 'sehr', 'stolz']), (0.05333326084176758, ['', 'Schnee·wittchen', 'ist', 'nur', 'wenige', 'Tage', 'alt']), (0.05333326084176758, ['', 'Die', 'neue', 'Königin', 'ist', 'schön']), (0.053333260841767566, ['Und', 'rote', 'Lippen']), (0.053333260841767566, ['Und', 'rote', 'Lippen']), (0.053333260841767566, ['Und', 'ihre', 'Haut', 'ist', 'so', 'weiß', 'wie', 'Schnee']), (0.053333260841767566, ['Und', 'ihre', 'Haut', 'ist', 'so', 'weiß', 'wie', 'Schnee']), (0.053333260841767566, ['Die', 'neue', 'Frau', 'ist', 'jetzt', 'die', 'Königin']), (0.053333260841767566, ['Die', 'Tochter', 'ist', 'sehr', 'schön:', 'Die', 'Tochter', 'hat', 'schwarze', 'Haare']), (0.053333260841767566, ['Die', 'Königin', 'bekommt', 'eine', 'Tochter']), (0.053333260841767566, ['Die', 'Geburt', 'war', 'nämlich', 'sehr', 'schwer']), (0.008000260969636694, ['\\ufeffEs', 'war', 'einmal:', 'So', 'fangen', 'Märchen', 'an']), (0.008000260969636694, ['Schnee·wittchen', 'ist', 'sehr', 'schön:', 'Schnee·wittchen', 'hat', 'schwarze', 'Haare']), (0.008000260969636694, ['Dieses', 'Märchen', 'heißt:', 'Schnee·wittchen']), (0.008000260969636694, ['Das', 'Märchen', 'geht', 'so:', 'Auf', 'dem', 'Bild', 'ist', 'Schnee·wittchen']), (0.008000260969636694, ['\\n'])]\n"
     ]
    }
   ],
   "source": [
    "# Step 4 - Sort the rank and pick top sentences\n",
    "ranked_sentence = sorted(((scores[i],s) for i,s in\n",
    "enumerate(sentences)), reverse=True)\n",
    "print(\"Indexes of top ranked_sentence order are \\n\\n\",\n",
    "ranked_sentence)"
   ]
  },
  {
   "cell_type": "markdown",
   "id": "3c0b7fc1-82fd-4c57-a3d4-72e18ecd4397",
   "metadata": {},
   "source": [
    "## Pick the top “n” sentences"
   ]
  },
  {
   "cell_type": "code",
   "execution_count": 42,
   "id": "1b62e1c2-1416-4c3e-b70f-e1cbbdb52012",
   "metadata": {},
   "outputs": [
    {
     "name": "stdout",
     "output_type": "stream",
     "text": [
      "How many sentences do you want in the summary?  2\n"
     ]
    }
   ],
   "source": [
    "#Step 5 - How many sentences to pick\n",
    "n = int(input(\"How many sentences do you want in the summary? \"))\n",
    "#n=2\n",
    "summarize_text = []\n",
    "for i in range(n):\n",
    "    summarize_text.append(\" \".join(ranked_sentence[i][1]))"
   ]
  },
  {
   "cell_type": "markdown",
   "id": "29af2269-5783-4141-b166-d17b61613381",
   "metadata": {},
   "source": [
    "## Finish off by printing summary"
   ]
  },
  {
   "cell_type": "code",
   "execution_count": 43,
   "id": "6a141fd2-d8ca-42c3-b746-a8fc8a30b8f3",
   "metadata": {},
   "outputs": [
    {
     "name": "stdout",
     "output_type": "stream",
     "text": [
      "Summarize Text: \n",
      " Ein Märchen ist eine sehr alte Geschichte. Ein König und eine Königin leben in einem Schloss\n"
     ]
    }
   ],
   "source": [
    "# Step 6 - Offcourse, output the summarize text\n",
    "print(\"Summarize Text: \\n\", \". \".join(summarize_text))"
   ]
  },
  {
   "cell_type": "markdown",
   "id": "2434c92e-fdda-4b27-9afd-24e3a21c0858",
   "metadata": {},
   "source": [
    "## Language 2 "
   ]
  },
  {
   "cell_type": "markdown",
   "id": "c21b4ae1-c6e6-46a5-9616-793ec77509de",
   "metadata": {},
   "source": [
    "## Open file and split into sentences"
   ]
  },
  {
   "cell_type": "code",
   "execution_count": 44,
   "id": "d1472c9d-7fae-4f12-bb59-7b26a5c18d0d",
   "metadata": {},
   "outputs": [
    {
     "name": "stdout",
     "output_type": "stream",
     "text": [
      "Не́которые иностра́нцы ду́мают, что в Росси́и медве́ди хо́дят по у́лицам\n",
      "Коне́чно, э́то непра́вда! Медве́ди живу́т в лесу́ и не лю́бят люде́й\n",
      "Встре́ча с медве́дем мо́жет быть о́чень опа́сна\n",
      "Ру́сские лю́ди лю́бят ходи́ть в лес и собира́ть грибы́ и я́годы\n",
      "Они́ де́лают э́то с осторо́жностью, так как медве́ди то́же о́чень лю́бят я́годы и мо́гут напа́сть на челове́ка\n",
      "Медве́дь ест всё: я́годы, ры́бу, мя́со и да́же насеко́мых\n",
      "Осо́бенно он лю́бит мёд\n",
      "Зимо́й медве́ди обы́чно спят, потому́ что пого́да сли́шком холо́дная и нет еды́\n",
      "Пока́ медве́дь спит, он мо́жет похуде́ть на 80 (во́семьдесят) килогра́мм! Ру́сские лю́ди о́чень похо́жи на медве́дей\n",
      "Зимо́й они́ то́же стано́вятся медли́тельными и мно́го спят, потому́ что на у́лице сли́шком хо́лодно и темно́\n",
      "Поэ́тому ру́сские лю́бят медве́дей и называ́ют их \"ми́шки\"\n",
      "Ми́ша - э́то талисма́н ле́тней олимпиа́ды 1980 (ты́сяча девятьсо́т восьмидеся́того) го́да в Москве́\n",
      "Холо́дная зима́\n",
      "Медве́дь бро́дит по́ лесу, иногда́ остана́вливается, стучи́т голово́й о де́рево и кричи́т: \"Ну заче́м, заче́м я пил сто́лько ко́фе!?\"\n"
     ]
    }
   ],
   "source": [
    "file = open(\"RussianText.txt\", \"r\")\n",
    "#This file contains one paragraph of multiple sentences\n",
    "filedata = file.readlines()\n",
    "article = filedata[0].split(\". \") #Just do the first paragraph\n",
    "sentences = []\n",
    "for sentence in article:\n",
    "    print(sentence)\n",
    "    sentences.append(sentence.replace(\"[^a-zA-Z]\", \" \").split(\" \"))"
   ]
  },
  {
   "cell_type": "markdown",
   "id": "7749d2c5-0c53-4665-bf0d-86dd8ef452f8",
   "metadata": {},
   "source": [
    "## Our data: a list of sentences"
   ]
  },
  {
   "cell_type": "code",
   "execution_count": 45,
   "id": "5847197b-b3b1-4793-91df-f31adeef24b5",
   "metadata": {},
   "outputs": [
    {
     "name": "stdout",
     "output_type": "stream",
     "text": [
      "Sentences are  [['\\ufeffНе́которые', 'иностра́нцы', 'ду́мают,', 'что', 'в', 'Росси́и', 'медве́ди', 'хо́дят', 'по', 'у́лицам'], ['Коне́чно,', 'э́то', 'непра́вда!', 'Медве́ди', 'живу́т', 'в', 'лесу́', 'и', 'не', 'лю́бят', 'люде́й'], ['Встре́ча', 'с', 'медве́дем', 'мо́жет', 'быть', 'о́чень', 'опа́сна'], ['Ру́сские', 'лю́ди', 'лю́бят', 'ходи́ть', 'в', 'лес', 'и', 'собира́ть', 'грибы́', 'и', 'я́годы'], ['Они́', 'де́лают', 'э́то', 'с', 'осторо́жностью,', 'так', 'как', 'медве́ди', 'то́же', 'о́чень', 'лю́бят', 'я́годы', 'и', 'мо́гут', 'напа́сть', 'на', 'челове́ка'], ['Медве́дь', 'ест', 'всё:', 'я́годы,', 'ры́бу,', 'мя́со', 'и', 'да́же', 'насеко́мых'], ['Осо́бенно', 'он', 'лю́бит', 'мёд'], ['Зимо́й', 'медве́ди', 'обы́чно', 'спят,', 'потому́', 'что', 'пого́да', 'сли́шком', 'холо́дная', 'и', 'нет', 'еды́'], ['Пока́', 'медве́дь', 'спит,', 'он', 'мо́жет', 'похуде́ть', 'на', '80', '(во́семьдесят)', 'килогра́мм!', 'Ру́сские', 'лю́ди', 'о́чень', 'похо́жи', 'на', 'медве́дей'], ['Зимо́й', 'они́', 'то́же', 'стано́вятся', 'медли́тельными', 'и', 'мно́го', 'спят,', 'потому́', 'что', 'на', 'у́лице', 'сли́шком', 'хо́лодно', 'и', 'темно́'], ['Поэ́тому', 'ру́сские', 'лю́бят', 'медве́дей', 'и', 'называ́ют', 'их', '\"ми́шки\"'], ['Ми́ша', '-', 'э́то', 'талисма́н', 'ле́тней', 'олимпиа́ды', '1980', '(ты́сяча', 'девятьсо́т', 'восьмидеся́того)', 'го́да', 'в', 'Москве́'], ['Холо́дная', 'зима́'], ['Медве́дь', 'бро́дит', 'по́', 'лесу,', 'иногда́', 'остана́вливается,', 'стучи́т', 'голово́й', 'о', 'де́рево', 'и', 'кричи́т:', '\"Ну', 'заче́м,', 'заче́м', 'я', 'пил', 'сто́лько', 'ко́фе!?\"']]\n"
     ]
    }
   ],
   "source": [
    "print(\"Sentences are \", sentences)"
   ]
  },
  {
   "cell_type": "markdown",
   "id": "b7070e88-d431-461f-9f5e-f213ae76cc4c",
   "metadata": {},
   "source": [
    "## Function to calculate similarity"
   ]
  },
  {
   "cell_type": "code",
   "execution_count": 46,
   "id": "761b3d1e-c65d-4d54-993c-5ca7364c7538",
   "metadata": {},
   "outputs": [],
   "source": [
    "def sentence_similarity(sent1, sent2 ):\n",
    "    sent1 = [w.lower() for w in sent1]\n",
    "    sent2 = [w.lower() for w in sent2]\n",
    "    all_words = list(set(sent1 + sent2))\n",
    "    vector1 = [0] * len(all_words)\n",
    "    vector2 = [0] * len(all_words)\n",
    "    for w in sent1:\n",
    "        vector1[all_words.index(w)] += 1\n",
    "        for w in sent2:\n",
    "            vector2[all_words.index(w)] += 1\n",
    "            return 1 - cosine_distance(vector1, vector2)"
   ]
  },
  {
   "cell_type": "markdown",
   "id": "0e0a94d3-8981-49c2-b13d-9b0b85f5a215",
   "metadata": {},
   "source": [
    "## Create the similarity matrix"
   ]
  },
  {
   "cell_type": "code",
   "execution_count": 47,
   "id": "0c9e1454-0b8b-43ad-9552-3c6308f6114f",
   "metadata": {},
   "outputs": [
    {
     "name": "stdout",
     "output_type": "stream",
     "text": [
      "Similarity matrix:\n",
      " [[0. 0. 0. 0. 0. 0. 0. 0. 0. 0. 0. 0. 0. 0.]\n",
      " [0. 0. 0. 0. 0. 0. 0. 0. 0. 0. 0. 0. 0. 0.]\n",
      " [0. 0. 0. 0. 0. 0. 0. 0. 0. 0. 0. 0. 0. 0.]\n",
      " [0. 0. 0. 0. 0. 0. 0. 0. 0. 0. 0. 0. 0. 0.]\n",
      " [0. 0. 0. 0. 0. 0. 0. 0. 0. 0. 0. 0. 0. 0.]\n",
      " [0. 0. 0. 0. 0. 0. 0. 0. 0. 0. 0. 0. 0. 1.]\n",
      " [0. 0. 0. 0. 0. 0. 0. 0. 0. 0. 0. 0. 0. 0.]\n",
      " [0. 0. 0. 0. 0. 0. 0. 0. 0. 1. 0. 0. 0. 0.]\n",
      " [0. 0. 0. 0. 0. 0. 0. 0. 0. 0. 0. 0. 0. 0.]\n",
      " [0. 0. 0. 0. 0. 0. 0. 1. 0. 0. 0. 0. 0. 0.]\n",
      " [0. 0. 0. 0. 0. 0. 0. 0. 0. 0. 0. 0. 0. 0.]\n",
      " [0. 0. 0. 0. 0. 0. 0. 0. 0. 0. 0. 0. 0. 0.]\n",
      " [0. 0. 0. 0. 0. 0. 0. 0. 0. 0. 0. 0. 0. 0.]\n",
      " [0. 0. 0. 0. 0. 1. 0. 0. 0. 0. 0. 0. 0. 0.]]\n"
     ]
    }
   ],
   "source": [
    "similarity_matrix = np.zeros((len(sentences), len(sentences)))\n",
    "\n",
    "for idx1 in range(len(sentences)):\n",
    "    for idx2 in range(len(sentences)):\n",
    "        if idx1 == idx2: #ignore if both are same sentences\n",
    "            continue\n",
    "        similarity_matrix[idx1][idx2] = sentence_similarity(sentences[idx1], sentences[idx2])\n",
    "\n",
    "print(\"Similarity matrix:\\n\", similarity_matrix)"
   ]
  },
  {
   "cell_type": "markdown",
   "id": "e741d9a3-85fc-4c25-88b2-f766edc84786",
   "metadata": {},
   "source": [
    "## Get the pagerank scores"
   ]
  },
  {
   "cell_type": "code",
   "execution_count": 48,
   "id": "68a59e57-8dfd-4c36-9aae-3998f2451221",
   "metadata": {},
   "outputs": [
    {
     "name": "stdout",
     "output_type": "stream",
     "text": [
      "scores {0: 0.027273481301247175, 1: 0.027273481301247175, 2: 0.027273481301247175, 3: 0.027273481301247175, 4: 0.027273481301247175, 5: 0.1818162967468819, 6: 0.027273481301247175, 7: 0.1818162967468819, 8: 0.027273481301247175, 9: 0.1818162967468819, 10: 0.027273481301247175, 11: 0.027273481301247175, 12: 0.027273481301247175, 13: 0.1818162967468819}\n"
     ]
    }
   ],
   "source": [
    "# Step 3 - Rank sentences in similarity martix\n",
    "sentence_similarity_graph = nx.from_numpy_array(similarity_matrix)\n",
    "scores = nx.pagerank(sentence_similarity_graph)\n",
    "print(\"scores\", scores)"
   ]
  },
  {
   "cell_type": "markdown",
   "id": "12c7e0d3-fdb0-4916-a65d-5e724e73b460",
   "metadata": {},
   "source": [
    "## Sort sentences by pagerank"
   ]
  },
  {
   "cell_type": "code",
   "execution_count": 49,
   "id": "470d93e7-7a2c-45a1-bde3-2bdc5a487d63",
   "metadata": {},
   "outputs": [
    {
     "name": "stdout",
     "output_type": "stream",
     "text": [
      "Indexes of top ranked_sentence order are \n",
      "\n",
      " [(0.1818162967468819, ['Медве́дь', 'ест', 'всё:', 'я́годы,', 'ры́бу,', 'мя́со', 'и', 'да́же', 'насеко́мых']), (0.1818162967468819, ['Медве́дь', 'бро́дит', 'по́', 'лесу,', 'иногда́', 'остана́вливается,', 'стучи́т', 'голово́й', 'о', 'де́рево', 'и', 'кричи́т:', '\"Ну', 'заче́м,', 'заче́м', 'я', 'пил', 'сто́лько', 'ко́фе!?\"']), (0.1818162967468819, ['Зимо́й', 'они́', 'то́же', 'стано́вятся', 'медли́тельными', 'и', 'мно́го', 'спят,', 'потому́', 'что', 'на', 'у́лице', 'сли́шком', 'хо́лодно', 'и', 'темно́']), (0.1818162967468819, ['Зимо́й', 'медве́ди', 'обы́чно', 'спят,', 'потому́', 'что', 'пого́да', 'сли́шком', 'холо́дная', 'и', 'нет', 'еды́']), (0.027273481301247175, ['\\ufeffНе́которые', 'иностра́нцы', 'ду́мают,', 'что', 'в', 'Росси́и', 'медве́ди', 'хо́дят', 'по', 'у́лицам']), (0.027273481301247175, ['Холо́дная', 'зима́']), (0.027273481301247175, ['Ру́сские', 'лю́ди', 'лю́бят', 'ходи́ть', 'в', 'лес', 'и', 'собира́ть', 'грибы́', 'и', 'я́годы']), (0.027273481301247175, ['Поэ́тому', 'ру́сские', 'лю́бят', 'медве́дей', 'и', 'называ́ют', 'их', '\"ми́шки\"']), (0.027273481301247175, ['Пока́', 'медве́дь', 'спит,', 'он', 'мо́жет', 'похуде́ть', 'на', '80', '(во́семьдесят)', 'килогра́мм!', 'Ру́сские', 'лю́ди', 'о́чень', 'похо́жи', 'на', 'медве́дей']), (0.027273481301247175, ['Осо́бенно', 'он', 'лю́бит', 'мёд']), (0.027273481301247175, ['Они́', 'де́лают', 'э́то', 'с', 'осторо́жностью,', 'так', 'как', 'медве́ди', 'то́же', 'о́чень', 'лю́бят', 'я́годы', 'и', 'мо́гут', 'напа́сть', 'на', 'челове́ка']), (0.027273481301247175, ['Ми́ша', '-', 'э́то', 'талисма́н', 'ле́тней', 'олимпиа́ды', '1980', '(ты́сяча', 'девятьсо́т', 'восьмидеся́того)', 'го́да', 'в', 'Москве́']), (0.027273481301247175, ['Коне́чно,', 'э́то', 'непра́вда!', 'Медве́ди', 'живу́т', 'в', 'лесу́', 'и', 'не', 'лю́бят', 'люде́й']), (0.027273481301247175, ['Встре́ча', 'с', 'медве́дем', 'мо́жет', 'быть', 'о́чень', 'опа́сна'])]\n"
     ]
    }
   ],
   "source": [
    "# Step 4 - Sort the rank and pick top sentences\n",
    "ranked_sentence = sorted(((scores[i],s) for i,s in\n",
    "enumerate(sentences)), reverse=True)\n",
    "print(\"Indexes of top ranked_sentence order are \\n\\n\",\n",
    "ranked_sentence)"
   ]
  },
  {
   "cell_type": "markdown",
   "id": "a6566c4f-10cd-430b-bd10-67210cdd222a",
   "metadata": {},
   "source": [
    "## Pick the top “n” sentences"
   ]
  },
  {
   "cell_type": "code",
   "execution_count": 50,
   "id": "6323f91a-57ba-4320-a0f7-f4ecdda8fe72",
   "metadata": {},
   "outputs": [
    {
     "name": "stdout",
     "output_type": "stream",
     "text": [
      "How many sentences do you want in the summary?  4\n"
     ]
    }
   ],
   "source": [
    "#Step 5 - How many sentences to pick\n",
    "n = int(input(\"How many sentences do you want in the summary? \"))\n",
    "#n=2\n",
    "summarize_text = []\n",
    "for i in range(n):\n",
    "    summarize_text.append(\" \".join(ranked_sentence[i][1]))"
   ]
  },
  {
   "cell_type": "markdown",
   "id": "6c13253a-89e3-4b41-ab62-06b473b99d58",
   "metadata": {},
   "source": [
    "## Finish off by printing summary"
   ]
  },
  {
   "cell_type": "code",
   "execution_count": 51,
   "id": "c016a0ea-d710-4a27-84ae-98b60b94bd75",
   "metadata": {},
   "outputs": [
    {
     "name": "stdout",
     "output_type": "stream",
     "text": [
      "Summarize Text: \n",
      " Медве́дь ест всё: я́годы, ры́бу, мя́со и да́же насеко́мых. Медве́дь бро́дит по́ лесу, иногда́ остана́вливается, стучи́т голово́й о де́рево и кричи́т: \"Ну заче́м, заче́м я пил сто́лько ко́фе!?\". Зимо́й они́ то́же стано́вятся медли́тельными и мно́го спят, потому́ что на у́лице сли́шком хо́лодно и темно́. Зимо́й медве́ди обы́чно спят, потому́ что пого́да сли́шком холо́дная и нет еды́\n"
     ]
    }
   ],
   "source": [
    "# Step 6 - Offcourse, output the summarize text\n",
    "print(\"Summarize Text: \\n\", \". \".join(summarize_text))"
   ]
  },
  {
   "cell_type": "markdown",
   "id": "6bdae626-b6e6-46d8-94a0-f425e6b2470d",
   "metadata": {},
   "source": [
    "## Language 3"
   ]
  },
  {
   "cell_type": "markdown",
   "id": "2d08508e-37a4-497c-bec8-2874af64eb63",
   "metadata": {},
   "source": [
    "## Open file and split into sentences"
   ]
  },
  {
   "cell_type": "code",
   "execution_count": 52,
   "id": "409c1781-00ec-43e7-b72d-0b4debed2cf7",
   "metadata": {},
   "outputs": [
    {
     "name": "stdout",
     "output_type": "stream",
     "text": [
      "En el año 1492 (mil cuatrocientos noventa y dos), la isla de Puerto Rico era un paraíso tropical\n",
      "La isla se llamaba Borinquén y sus habitantes eran los Taínos\n",
      "Aunque a veces sufrían ataques de sus vecinos, los Caribes, en general, había paz en la isla\n",
      "No sabían que sus vidas estaban a punto de cambiar drásticamente\n",
      "En su segundo viaje al Nuevo Mundo, Cristóbal Colón visitó Borinquén el 19 (diecinueve) de noviembre de 1493 (mil cuatrocientos noventa y tres)\n",
      "Nombró la isla “San Juan Bautista”\n",
      "España no estableció un pueblo en la isla hasta 1508 (mil quinientos ocho)\n",
      "La colonia se llamaba Puerto Rico\n",
      "En la década 1520 (mil quinientos veinte), cambiaron los nombres de la colonia y la isla\n",
      "Ahora, la ciudad se llamaba San Juan y la isla se llamaba Puerto Rico\n",
      "Y sus habitantes originales, los taínos, eran prácticamente extintos\n",
      "En 1860 (mil ochocientos sesenta), Puerto Rico y Cuba eran las últimas colonias de España en América, y ellos también querían su independencia\n",
      "La situación en Puerto Rico estaba mal\n",
      "La economía no era estable y había mucha pobreza\n",
      "La gan mayoría de los habitantes no podían leer ni escribir\n",
      "La infraestructura de la isla era horrible y afectó negativamente a todos\n",
      "Unos cambios llegaron a Puerto Rico en el año 1897 (mil ochocientos noventa y siete) cuando España aprobó la autonomía administrativa y política de la isla\n",
      "No fue una independencia total, pero permitió elecciones locales para los puertorriqueños\n",
      "Interesantemente, Cuba causó la separación final de España y Puerto Rico\n",
      "Cuba quería su independencia y se rebeló contra España varias veces, incluyendo una guerra de diez años\n",
      "Revolucionarios cubanos como José Martí eran considerados héroes en Cuba, mientras que eran criminales en España\n",
      "Cuba tenía grandes amigos en los Estados Unidos\n",
      "Theodore Roosevelt abogó por la independencia cubana\n",
      "Los reporteros Joseph Pulitzer y William Randolph Hearst escribieron artículos que denunciaban a España\n",
      "La prensa vio la posibilidad de ganar mucho dinero con historias escandalosas de héroes cubanos y españoles terribles\n",
      "Es probable que las historias fueran incorrectas, pero eran populares\n",
      "Pintaron a España como una nación injusta y mala\n",
      "Después de leer los artículos y escuchar a políticos populares como Roosevelt, muchos ciudadanos estadounidenses estaban a favor de la independencia Cubana y querían ayudar\n",
      "Donaron dinero y armas a los rebeldes cubanos.\n"
     ]
    }
   ],
   "source": [
    "file = open(\"SpanishText.txt\", \"r\")\n",
    "#This file contains one paragraph of multiple sentences\n",
    "filedata = file.readlines()\n",
    "article = filedata[0].split(\". \") #Just do the first paragraph\n",
    "sentences = []\n",
    "for sentence in article:\n",
    "    print(sentence)\n",
    "    sentences.append(sentence.replace(\"[^a-zA-Z]\", \" \").split(\" \"))"
   ]
  },
  {
   "cell_type": "markdown",
   "id": "c9c1ba7d-0867-4b26-aa0b-849ccf86b238",
   "metadata": {},
   "source": [
    "## Our data: a list of sentences"
   ]
  },
  {
   "cell_type": "code",
   "execution_count": 53,
   "id": "180b08df-4939-4b78-b601-38d5dd7883bc",
   "metadata": {},
   "outputs": [
    {
     "name": "stdout",
     "output_type": "stream",
     "text": [
      "Sentences are  [['\\ufeffEn', 'el', 'año', '1492', '(mil', 'cuatrocientos', 'noventa', 'y', 'dos),', 'la', 'isla', 'de', 'Puerto', 'Rico', 'era', 'un', 'paraíso', 'tropical'], ['La', 'isla', 'se', 'llamaba', 'Borinquén', 'y', 'sus', 'habitantes', 'eran', 'los', 'Taínos'], ['Aunque', 'a', 'veces', 'sufrían', 'ataques', 'de', 'sus', 'vecinos,', 'los', 'Caribes,', 'en', 'general,', 'había', 'paz', 'en', 'la', 'isla'], ['No', 'sabían', 'que', 'sus', 'vidas', 'estaban', 'a', 'punto', 'de', 'cambiar', 'drásticamente'], ['En', 'su', 'segundo', 'viaje', 'al', 'Nuevo', 'Mundo,', 'Cristóbal', 'Colón', 'visitó', 'Borinquén', 'el', '19', '(diecinueve)', 'de', 'noviembre', 'de', '1493', '(mil', 'cuatrocientos', 'noventa', 'y', 'tres)'], ['Nombró', 'la', 'isla', '“San', 'Juan', 'Bautista”'], ['España', 'no', 'estableció', 'un', 'pueblo', 'en', 'la', 'isla', 'hasta', '1508', '(mil', 'quinientos', 'ocho)'], ['La', 'colonia', 'se', 'llamaba', 'Puerto', 'Rico'], ['En', 'la', 'década', '1520', '(mil', 'quinientos', 'veinte),', 'cambiaron', 'los', 'nombres', 'de', 'la', 'colonia', 'y', 'la', 'isla'], ['Ahora,', 'la', 'ciudad', 'se', 'llamaba', 'San', 'Juan', 'y', 'la', 'isla', 'se', 'llamaba', 'Puerto', 'Rico'], ['Y', 'sus', 'habitantes', 'originales,', 'los', 'taínos,', 'eran', 'prácticamente', 'extintos'], ['En', '1860', '(mil', 'ochocientos', 'sesenta),', 'Puerto', 'Rico', 'y', 'Cuba', 'eran', 'las', 'últimas', 'colonias', 'de', 'España', 'en', 'América,', 'y', 'ellos', 'también', 'querían', 'su', 'independencia'], ['La', 'situación', 'en', 'Puerto', 'Rico', 'estaba', 'mal'], ['La', 'economía', 'no', 'era', 'estable', 'y', 'había', 'mucha', 'pobreza'], ['La', 'gan', 'mayoría', 'de', 'los', 'habitantes', 'no', 'podían', 'leer', 'ni', 'escribir'], ['La', 'infraestructura', 'de', 'la', 'isla', 'era', 'horrible', 'y', 'afectó', 'negativamente', 'a', 'todos'], ['Unos', 'cambios', 'llegaron', 'a', 'Puerto', 'Rico', 'en', 'el', 'año', '1897', '(mil', 'ochocientos', 'noventa', 'y', 'siete)', 'cuando', 'España', 'aprobó', 'la', 'autonomía', 'administrativa', 'y', 'política', 'de', 'la', 'isla'], ['No', 'fue', 'una', 'independencia', 'total,', 'pero', 'permitió', 'elecciones', 'locales', 'para', 'los', 'puertorriqueños'], ['Interesantemente,', 'Cuba', 'causó', 'la', 'separación', 'final', 'de', 'España', 'y', 'Puerto', 'Rico'], ['Cuba', 'quería', 'su', 'independencia', 'y', 'se', 'rebeló', 'contra', 'España', 'varias', 'veces,', 'incluyendo', 'una', 'guerra', 'de', 'diez', 'años'], ['Revolucionarios', 'cubanos', 'como', 'José', 'Martí', 'eran', 'considerados', 'héroes', 'en', 'Cuba,', 'mientras', 'que', 'eran', 'criminales', 'en', 'España'], ['Cuba', 'tenía', 'grandes', 'amigos', 'en', 'los', 'Estados', 'Unidos'], ['Theodore', 'Roosevelt', 'abogó', 'por', 'la', 'independencia', 'cubana'], ['Los', 'reporteros', 'Joseph', 'Pulitzer', 'y', 'William', 'Randolph', 'Hearst', 'escribieron', 'artículos', 'que', 'denunciaban', 'a', 'España'], ['La', 'prensa', 'vio', 'la', 'posibilidad', 'de', 'ganar', 'mucho', 'dinero', 'con', 'historias', 'escandalosas', 'de', 'héroes', 'cubanos', 'y', 'españoles', 'terribles'], ['Es', 'probable', 'que', 'las', 'historias', 'fueran', 'incorrectas,', 'pero', 'eran', 'populares'], ['Pintaron', 'a', 'España', 'como', 'una', 'nación', 'injusta', 'y', 'mala'], ['Después', 'de', 'leer', 'los', 'artículos', 'y', 'escuchar', 'a', 'políticos', 'populares', 'como', 'Roosevelt,', 'muchos', 'ciudadanos', 'estadounidenses', 'estaban', 'a', 'favor', 'de', 'la', 'independencia', 'Cubana', 'y', 'querían', 'ayudar'], ['Donaron', 'dinero', 'y', 'armas', 'a', 'los', 'rebeldes', 'cubanos.']]\n"
     ]
    }
   ],
   "source": [
    "print(\"Sentences are \", sentences)"
   ]
  },
  {
   "cell_type": "markdown",
   "id": "07450736-e577-45bf-af60-571a2773692d",
   "metadata": {},
   "source": [
    "## Function to calculate similarity"
   ]
  },
  {
   "cell_type": "code",
   "execution_count": 54,
   "id": "3317ade3-11f8-4f99-8728-b175bbd0606a",
   "metadata": {},
   "outputs": [],
   "source": [
    "def sentence_similarity(sent1, sent2 ):\n",
    "    sent1 = [w.lower() for w in sent1]\n",
    "    sent2 = [w.lower() for w in sent2]\n",
    "    all_words = list(set(sent1 + sent2))\n",
    "    vector1 = [0] * len(all_words)\n",
    "    vector2 = [0] * len(all_words)\n",
    "    for w in sent1:\n",
    "        vector1[all_words.index(w)] += 1\n",
    "        for w in sent2:\n",
    "            vector2[all_words.index(w)] += 1\n",
    "            return 1 - cosine_distance(vector1, vector2)"
   ]
  },
  {
   "cell_type": "markdown",
   "id": "01d64823-cc1d-44cb-95a6-ec3160306d72",
   "metadata": {},
   "source": [
    "## Create the similarity matrix"
   ]
  },
  {
   "cell_type": "code",
   "execution_count": 55,
   "id": "7c45eda9-b7d4-4c85-bf77-b6198fb7e9ef",
   "metadata": {},
   "outputs": [
    {
     "name": "stdout",
     "output_type": "stream",
     "text": [
      "Similarity matrix:\n",
      " [[0. 0. 0. 0. 0. 0. 0. 0. 0. 0. 0. 0. 0. 0. 0. 0. 0. 0. 0. 0. 0. 0. 0. 0.\n",
      "  0. 0. 0. 0. 0.]\n",
      " [0. 0. 0. 0. 0. 0. 0. 1. 0. 0. 0. 0. 1. 1. 1. 1. 0. 0. 0. 0. 0. 0. 0. 0.\n",
      "  1. 0. 0. 0. 0.]\n",
      " [0. 0. 0. 0. 0. 0. 0. 0. 0. 0. 0. 0. 0. 0. 0. 0. 0. 0. 0. 0. 0. 0. 0. 0.\n",
      "  0. 0. 0. 0. 0.]\n",
      " [0. 0. 0. 0. 0. 0. 0. 0. 0. 0. 0. 0. 0. 0. 0. 0. 0. 1. 0. 0. 0. 0. 0. 0.\n",
      "  0. 0. 0. 0. 0.]\n",
      " [0. 0. 0. 0. 0. 0. 0. 0. 1. 0. 0. 1. 0. 0. 0. 0. 0. 0. 0. 0. 0. 0. 0. 0.\n",
      "  0. 0. 0. 0. 0.]\n",
      " [0. 0. 0. 0. 0. 0. 0. 0. 0. 0. 0. 0. 0. 0. 0. 0. 0. 0. 0. 0. 0. 0. 0. 0.\n",
      "  0. 0. 0. 0. 0.]\n",
      " [0. 0. 0. 0. 0. 0. 0. 0. 0. 0. 0. 0. 0. 0. 0. 0. 0. 0. 0. 0. 0. 0. 0. 0.\n",
      "  0. 0. 0. 0. 0.]\n",
      " [0. 1. 0. 0. 0. 0. 0. 0. 0. 0. 0. 0. 1. 1. 1. 1. 0. 0. 0. 0. 0. 0. 0. 0.\n",
      "  1. 0. 0. 0. 0.]\n",
      " [0. 0. 0. 0. 1. 0. 0. 0. 0. 0. 0. 1. 0. 0. 0. 0. 0. 0. 0. 0. 0. 0. 0. 0.\n",
      "  0. 0. 0. 0. 0.]\n",
      " [0. 0. 0. 0. 0. 0. 0. 0. 0. 0. 0. 0. 0. 0. 0. 0. 0. 0. 0. 0. 0. 0. 0. 0.\n",
      "  0. 0. 0. 0. 0.]\n",
      " [0. 0. 0. 0. 0. 0. 0. 0. 0. 0. 0. 0. 0. 0. 0. 0. 0. 0. 0. 0. 0. 0. 0. 0.\n",
      "  0. 0. 0. 0. 0.]\n",
      " [0. 0. 0. 0. 1. 0. 0. 0. 1. 0. 0. 0. 0. 0. 0. 0. 0. 0. 0. 0. 0. 0. 0. 0.\n",
      "  0. 0. 0. 0. 0.]\n",
      " [0. 1. 0. 0. 0. 0. 0. 1. 0. 0. 0. 0. 0. 1. 1. 1. 0. 0. 0. 0. 0. 0. 0. 0.\n",
      "  1. 0. 0. 0. 0.]\n",
      " [0. 1. 0. 0. 0. 0. 0. 1. 0. 0. 0. 0. 1. 0. 1. 1. 0. 0. 0. 0. 0. 0. 0. 0.\n",
      "  1. 0. 0. 0. 0.]\n",
      " [0. 1. 0. 0. 0. 0. 0. 1. 0. 0. 0. 0. 1. 1. 0. 1. 0. 0. 0. 0. 0. 0. 0. 0.\n",
      "  1. 0. 0. 0. 0.]\n",
      " [0. 1. 0. 0. 0. 0. 0. 1. 0. 0. 0. 0. 1. 1. 1. 0. 0. 0. 0. 0. 0. 0. 0. 0.\n",
      "  1. 0. 0. 0. 0.]\n",
      " [0. 0. 0. 0. 0. 0. 0. 0. 0. 0. 0. 0. 0. 0. 0. 0. 0. 0. 0. 0. 0. 0. 0. 0.\n",
      "  0. 0. 0. 0. 0.]\n",
      " [0. 0. 0. 1. 0. 0. 0. 0. 0. 0. 0. 0. 0. 0. 0. 0. 0. 0. 0. 0. 0. 0. 0. 0.\n",
      "  0. 0. 0. 0. 0.]\n",
      " [0. 0. 0. 0. 0. 0. 0. 0. 0. 0. 0. 0. 0. 0. 0. 0. 0. 0. 0. 0. 0. 0. 0. 0.\n",
      "  0. 0. 0. 0. 0.]\n",
      " [0. 0. 0. 0. 0. 0. 0. 0. 0. 0. 0. 0. 0. 0. 0. 0. 0. 0. 0. 0. 0. 1. 0. 0.\n",
      "  0. 0. 0. 0. 0.]\n",
      " [0. 0. 0. 0. 0. 0. 0. 0. 0. 0. 0. 0. 0. 0. 0. 0. 0. 0. 0. 0. 0. 0. 0. 0.\n",
      "  0. 0. 0. 0. 0.]\n",
      " [0. 0. 0. 0. 0. 0. 0. 0. 0. 0. 0. 0. 0. 0. 0. 0. 0. 0. 0. 1. 0. 0. 0. 0.\n",
      "  0. 0. 0. 0. 0.]\n",
      " [0. 0. 0. 0. 0. 0. 0. 0. 0. 0. 0. 0. 0. 0. 0. 0. 0. 0. 0. 0. 0. 0. 0. 0.\n",
      "  0. 0. 0. 0. 0.]\n",
      " [0. 0. 0. 0. 0. 0. 0. 0. 0. 0. 0. 0. 0. 0. 0. 0. 0. 0. 0. 0. 0. 0. 0. 0.\n",
      "  0. 0. 0. 0. 0.]\n",
      " [0. 1. 0. 0. 0. 0. 0. 1. 0. 0. 0. 0. 1. 1. 1. 1. 0. 0. 0. 0. 0. 0. 0. 0.\n",
      "  0. 0. 0. 0. 0.]\n",
      " [0. 0. 0. 0. 0. 0. 0. 0. 0. 0. 0. 0. 0. 0. 0. 0. 0. 0. 0. 0. 0. 0. 0. 0.\n",
      "  0. 0. 0. 0. 0.]\n",
      " [0. 0. 0. 0. 0. 0. 0. 0. 0. 0. 0. 0. 0. 0. 0. 0. 0. 0. 0. 0. 0. 0. 0. 0.\n",
      "  0. 0. 0. 0. 0.]\n",
      " [0. 0. 0. 0. 0. 0. 0. 0. 0. 0. 0. 0. 0. 0. 0. 0. 0. 0. 0. 0. 0. 0. 0. 0.\n",
      "  0. 0. 0. 0. 0.]\n",
      " [0. 0. 0. 0. 0. 0. 0. 0. 0. 0. 0. 0. 0. 0. 0. 0. 0. 0. 0. 0. 0. 0. 0. 0.\n",
      "  0. 0. 0. 0. 0.]]\n"
     ]
    }
   ],
   "source": [
    "similarity_matrix = np.zeros((len(sentences), len(sentences)))\n",
    "\n",
    "for idx1 in range(len(sentences)):\n",
    "    for idx2 in range(len(sentences)):\n",
    "        if idx1 == idx2: #ignore if both are same sentences\n",
    "            continue\n",
    "        similarity_matrix[idx1][idx2] = sentence_similarity(sentences[idx1], sentences[idx2])\n",
    "\n",
    "print(\"Similarity matrix:\\n\", similarity_matrix)"
   ]
  },
  {
   "cell_type": "markdown",
   "id": "9ad49ad8-35d8-4a34-ad0a-db8188f60b88",
   "metadata": {},
   "source": [
    "## Get the pagerank scores"
   ]
  },
  {
   "cell_type": "code",
   "execution_count": 56,
   "id": "0c6bb07c-e4a2-44eb-8769-510c204bb756",
   "metadata": {},
   "outputs": [
    {
     "name": "stdout",
     "output_type": "stream",
     "text": [
      "scores {0: 0.009231348331386034, 1: 0.061537841073514975, 2: 0.009231348331386034, 3: 0.06153784107351499, 4: 0.06153784107351499, 5: 0.009231348331386034, 6: 0.009231348331386034, 7: 0.061537841073514975, 8: 0.06153784107351499, 9: 0.009231348331386034, 10: 0.009231348331386034, 11: 0.06153784107351499, 12: 0.061537841073514975, 13: 0.061537841073514975, 14: 0.061537841073514975, 15: 0.061537841073514975, 16: 0.009231348331386034, 17: 0.06153784107351499, 18: 0.009231348331386034, 19: 0.06153784107351499, 20: 0.009231348331386034, 21: 0.06153784107351499, 22: 0.009231348331386034, 23: 0.009231348331386034, 24: 0.061537841073514975, 25: 0.009231348331386034, 26: 0.009231348331386034, 27: 0.009231348331386034, 28: 0.009231348331386034}\n"
     ]
    }
   ],
   "source": [
    "# Step 3 - Rank sentences in similarity martix\n",
    "sentence_similarity_graph = nx.from_numpy_array(similarity_matrix)\n",
    "scores = nx.pagerank(sentence_similarity_graph)\n",
    "print(\"scores\", scores)"
   ]
  },
  {
   "cell_type": "markdown",
   "id": "ead7b036-b12d-4d47-9b74-18736ba0a54b",
   "metadata": {},
   "source": [
    "## Sort sentences by pagerank"
   ]
  },
  {
   "cell_type": "code",
   "execution_count": 57,
   "id": "75c8606f-ea3c-4d15-893b-3fefa0df5177",
   "metadata": {},
   "outputs": [
    {
     "name": "stdout",
     "output_type": "stream",
     "text": [
      "Indexes of top ranked_sentence order are \n",
      "\n",
      " [(0.06153784107351499, ['No', 'sabían', 'que', 'sus', 'vidas', 'estaban', 'a', 'punto', 'de', 'cambiar', 'drásticamente']), (0.06153784107351499, ['No', 'fue', 'una', 'independencia', 'total,', 'pero', 'permitió', 'elecciones', 'locales', 'para', 'los', 'puertorriqueños']), (0.06153784107351499, ['En', 'su', 'segundo', 'viaje', 'al', 'Nuevo', 'Mundo,', 'Cristóbal', 'Colón', 'visitó', 'Borinquén', 'el', '19', '(diecinueve)', 'de', 'noviembre', 'de', '1493', '(mil', 'cuatrocientos', 'noventa', 'y', 'tres)']), (0.06153784107351499, ['En', 'la', 'década', '1520', '(mil', 'quinientos', 'veinte),', 'cambiaron', 'los', 'nombres', 'de', 'la', 'colonia', 'y', 'la', 'isla']), (0.06153784107351499, ['En', '1860', '(mil', 'ochocientos', 'sesenta),', 'Puerto', 'Rico', 'y', 'Cuba', 'eran', 'las', 'últimas', 'colonias', 'de', 'España', 'en', 'América,', 'y', 'ellos', 'también', 'querían', 'su', 'independencia']), (0.06153784107351499, ['Cuba', 'tenía', 'grandes', 'amigos', 'en', 'los', 'Estados', 'Unidos']), (0.06153784107351499, ['Cuba', 'quería', 'su', 'independencia', 'y', 'se', 'rebeló', 'contra', 'España', 'varias', 'veces,', 'incluyendo', 'una', 'guerra', 'de', 'diez', 'años']), (0.061537841073514975, ['La', 'situación', 'en', 'Puerto', 'Rico', 'estaba', 'mal']), (0.061537841073514975, ['La', 'prensa', 'vio', 'la', 'posibilidad', 'de', 'ganar', 'mucho', 'dinero', 'con', 'historias', 'escandalosas', 'de', 'héroes', 'cubanos', 'y', 'españoles', 'terribles']), (0.061537841073514975, ['La', 'isla', 'se', 'llamaba', 'Borinquén', 'y', 'sus', 'habitantes', 'eran', 'los', 'Taínos']), (0.061537841073514975, ['La', 'infraestructura', 'de', 'la', 'isla', 'era', 'horrible', 'y', 'afectó', 'negativamente', 'a', 'todos']), (0.061537841073514975, ['La', 'gan', 'mayoría', 'de', 'los', 'habitantes', 'no', 'podían', 'leer', 'ni', 'escribir']), (0.061537841073514975, ['La', 'economía', 'no', 'era', 'estable', 'y', 'había', 'mucha', 'pobreza']), (0.061537841073514975, ['La', 'colonia', 'se', 'llamaba', 'Puerto', 'Rico']), (0.009231348331386034, ['\\ufeffEn', 'el', 'año', '1492', '(mil', 'cuatrocientos', 'noventa', 'y', 'dos),', 'la', 'isla', 'de', 'Puerto', 'Rico', 'era', 'un', 'paraíso', 'tropical']), (0.009231348331386034, ['Y', 'sus', 'habitantes', 'originales,', 'los', 'taínos,', 'eran', 'prácticamente', 'extintos']), (0.009231348331386034, ['Unos', 'cambios', 'llegaron', 'a', 'Puerto', 'Rico', 'en', 'el', 'año', '1897', '(mil', 'ochocientos', 'noventa', 'y', 'siete)', 'cuando', 'España', 'aprobó', 'la', 'autonomía', 'administrativa', 'y', 'política', 'de', 'la', 'isla']), (0.009231348331386034, ['Theodore', 'Roosevelt', 'abogó', 'por', 'la', 'independencia', 'cubana']), (0.009231348331386034, ['Revolucionarios', 'cubanos', 'como', 'José', 'Martí', 'eran', 'considerados', 'héroes', 'en', 'Cuba,', 'mientras', 'que', 'eran', 'criminales', 'en', 'España']), (0.009231348331386034, ['Pintaron', 'a', 'España', 'como', 'una', 'nación', 'injusta', 'y', 'mala']), (0.009231348331386034, ['Nombró', 'la', 'isla', '“San', 'Juan', 'Bautista”']), (0.009231348331386034, ['Los', 'reporteros', 'Joseph', 'Pulitzer', 'y', 'William', 'Randolph', 'Hearst', 'escribieron', 'artículos', 'que', 'denunciaban', 'a', 'España']), (0.009231348331386034, ['Interesantemente,', 'Cuba', 'causó', 'la', 'separación', 'final', 'de', 'España', 'y', 'Puerto', 'Rico']), (0.009231348331386034, ['España', 'no', 'estableció', 'un', 'pueblo', 'en', 'la', 'isla', 'hasta', '1508', '(mil', 'quinientos', 'ocho)']), (0.009231348331386034, ['Es', 'probable', 'que', 'las', 'historias', 'fueran', 'incorrectas,', 'pero', 'eran', 'populares']), (0.009231348331386034, ['Donaron', 'dinero', 'y', 'armas', 'a', 'los', 'rebeldes', 'cubanos.']), (0.009231348331386034, ['Después', 'de', 'leer', 'los', 'artículos', 'y', 'escuchar', 'a', 'políticos', 'populares', 'como', 'Roosevelt,', 'muchos', 'ciudadanos', 'estadounidenses', 'estaban', 'a', 'favor', 'de', 'la', 'independencia', 'Cubana', 'y', 'querían', 'ayudar']), (0.009231348331386034, ['Aunque', 'a', 'veces', 'sufrían', 'ataques', 'de', 'sus', 'vecinos,', 'los', 'Caribes,', 'en', 'general,', 'había', 'paz', 'en', 'la', 'isla']), (0.009231348331386034, ['Ahora,', 'la', 'ciudad', 'se', 'llamaba', 'San', 'Juan', 'y', 'la', 'isla', 'se', 'llamaba', 'Puerto', 'Rico'])]\n"
     ]
    }
   ],
   "source": [
    "# Step 4 - Sort the rank and pick top sentences\n",
    "ranked_sentence = sorted(((scores[i],s) for i,s in\n",
    "enumerate(sentences)), reverse=True)\n",
    "print(\"Indexes of top ranked_sentence order are \\n\\n\",\n",
    "ranked_sentence)"
   ]
  },
  {
   "cell_type": "markdown",
   "id": "734b4e21-f0bb-4c3c-aa87-27921b00af30",
   "metadata": {},
   "source": [
    "## Pick the top “n” sentences"
   ]
  },
  {
   "cell_type": "code",
   "execution_count": 58,
   "id": "88d75190-65b7-43b0-a4b5-1d27426b4ddf",
   "metadata": {},
   "outputs": [
    {
     "name": "stdout",
     "output_type": "stream",
     "text": [
      "How many sentences do you want in the summary?  5\n"
     ]
    }
   ],
   "source": [
    "#Step 5 - How many sentences to pick\n",
    "n = int(input(\"How many sentences do you want in the summary? \"))\n",
    "#n=2\n",
    "summarize_text = []\n",
    "for i in range(n):\n",
    "    summarize_text.append(\" \".join(ranked_sentence[i][1]))"
   ]
  },
  {
   "cell_type": "markdown",
   "id": "57bf0994-255b-43e2-946c-dc3dca44b19f",
   "metadata": {},
   "source": [
    "## Finish off by printing summary"
   ]
  },
  {
   "cell_type": "code",
   "execution_count": 59,
   "id": "978b3948-2dce-4e06-b6bb-f12b0f5b7678",
   "metadata": {},
   "outputs": [
    {
     "name": "stdout",
     "output_type": "stream",
     "text": [
      "Summarize Text: \n",
      " No sabían que sus vidas estaban a punto de cambiar drásticamente. No fue una independencia total, pero permitió elecciones locales para los puertorriqueños. En su segundo viaje al Nuevo Mundo, Cristóbal Colón visitó Borinquén el 19 (diecinueve) de noviembre de 1493 (mil cuatrocientos noventa y tres). En la década 1520 (mil quinientos veinte), cambiaron los nombres de la colonia y la isla. En 1860 (mil ochocientos sesenta), Puerto Rico y Cuba eran las últimas colonias de España en América, y ellos también querían su independencia\n"
     ]
    }
   ],
   "source": [
    "# Step 6 - Offcourse, output the summarize text\n",
    "print(\"Summarize Text: \\n\", \". \".join(summarize_text))"
   ]
  }
 ],
 "metadata": {
  "kernelspec": {
   "display_name": "Python 3 (ipykernel)",
   "language": "python",
   "name": "python3"
  },
  "language_info": {
   "codemirror_mode": {
    "name": "ipython",
    "version": 3
   },
   "file_extension": ".py",
   "mimetype": "text/x-python",
   "name": "python",
   "nbconvert_exporter": "python",
   "pygments_lexer": "ipython3",
   "version": "3.11.7"
  }
 },
 "nbformat": 4,
 "nbformat_minor": 5
}
